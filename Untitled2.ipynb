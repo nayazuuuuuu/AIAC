{
  "nbformat": 4,
  "nbformat_minor": 0,
  "metadata": {
    "colab": {
      "provenance": [],
      "authorship_tag": "ABX9TyMosKVDGCz8poD3GT/wUzyI",
      "include_colab_link": true
    },
    "kernelspec": {
      "name": "python3",
      "display_name": "Python 3"
    },
    "language_info": {
      "name": "python"
    }
  },
  "cells": [
    {
      "cell_type": "markdown",
      "metadata": {
        "id": "view-in-github",
        "colab_type": "text"
      },
      "source": [
        "<a href=\"https://colab.research.google.com/github/nayazuuuuuu/AIAC/blob/main/Untitled2.ipynb\" target=\"_parent\"><img src=\"https://colab.research.google.com/assets/colab-badge.svg\" alt=\"Open In Colab\"/></a>"
      ]
    },
    {
      "cell_type": "code",
      "execution_count": null,
      "metadata": {
        "id": "S1wfxTE13ViO"
      },
      "outputs": [],
      "source": []
    },
    {
      "cell_type": "markdown",
      "source": [
        " write a Python function that reads\n",
        "a list of numbers and calculates the mean, minimum, and maximum\n",
        "prompt:write a Python function that reads\n",
        "a list of numbers and calculates the mean, minimum, and maximum\n"
      ],
      "metadata": {
        "id": "czZS43Mm3ttE"
      }
    },
    {
      "cell_type": "markdown",
      "source": [
        "The code I provided defines a Python function called analyze_numbers that takes a list of numbers as input. Here's a breakdown of what the function does:\n",
        "\n",
        "It first checks if the input list is empty. If it is, it returns None for the mean, minimum, and maximum.\n",
        "If the list is not empty, it calculates the mean by summing all the numbers and dividing by the number of elements in the list.\n",
        "It then finds the minimum and maximum values in the list using the built-in min() and max() functions.\n",
        "Finally, it returns the calculated mean, minimum, and maximum as a tuple.\n",
        "The code also includes example usage of the function with both a list of numbers and an empty list to demonstrate how it handles different cases.\n",
        "\n"
      ],
      "metadata": {
        "id": "IAAd-x-n305u"
      }
    },
    {
      "cell_type": "code",
      "source": [],
      "metadata": {
        "id": "pGQSlfwo36u9"
      },
      "execution_count": null,
      "outputs": []
    },
    {
      "cell_type": "code",
      "metadata": {
        "id": "bed307dc"
      },
      "source": [
        "def analyze_numbers(numbers):\n",
        "  \"\"\"\n",
        "  Calculates the mean, minimum, and maximum of a list of numbers.\n",
        "\n",
        "  Args:\n",
        "    numbers: A list of numbers.\n",
        "\n",
        "  Returns:\n",
        "    A tuple containing the mean, minimum, and maximum of the list.\n",
        "    Returns (None, None, None) if the list is empty.\n",
        "  \"\"\"\n",
        "  if not numbers:\n",
        "    return None, None, None\n",
        "\n",
        "  mean = sum(numbers) / len(numbers)\n",
        "  minimum = min(numbers)\n",
        "  maximum = max(numbers)\n",
        "\n",
        "  return mean, minimum, maximum\n",
        "\n",
        "# Example usage:\n",
        "my_list = [10, 20, 30, 40, 50]\n",
        "mean, minimum, maximum = analyze_numbers(my_list)\n",
        "\n",
        "if mean is not None:\n",
        "  print(f\"List: {my_list}\")\n",
        "  print(f\"Mean: {mean}\")\n",
        "  print(f\"Minimum: {minimum}\")\n",
        "  print(f\"Maximum: {maximum}\")\n",
        "else:\n",
        "  print(\"The list is empty.\")\n",
        "\n",
        "empty_list = []\n",
        "mean, minimum, maximum = analyze_numbers(empty_list)\n",
        "\n",
        "if mean is not None:\n",
        "  print(f\"List: {empty_list}\")\n",
        "  print(f\"Mean: {mean}\")\n",
        "  print(f\"Minimum: {minimum}\")\n",
        "  print(f\"Maximum: {maximum}\")\n",
        "else:\n",
        "  print(\"\\nThe list is empty.\")"
      ],
      "execution_count": null,
      "outputs": []
    }
  ]
}