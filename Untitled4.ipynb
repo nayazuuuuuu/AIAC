{
  "nbformat": 4,
  "nbformat_minor": 0,
  "metadata": {
    "colab": {
      "provenance": [],
      "authorship_tag": "ABX9TyOI/FSkeUgzagUukMKY6wlq",
      "include_colab_link": true
    },
    "kernelspec": {
      "name": "python3",
      "display_name": "Python 3"
    },
    "language_info": {
      "name": "python"
    }
  },
  "cells": [
    {
      "cell_type": "markdown",
      "metadata": {
        "id": "view-in-github",
        "colab_type": "text"
      },
      "source": [
        "<a href=\"https://colab.research.google.com/github/nayazuuuuuu/AIAC/blob/main/Untitled4.ipynb\" target=\"_parent\"><img src=\"https://colab.research.google.com/assets/colab-badge.svg\" alt=\"Open In Colab\"/></a>"
      ]
    },
    {
      "cell_type": "markdown",
      "source": [],
      "metadata": {
        "id": "sWaFDWbH5ZT4"
      }
    },
    {
      "cell_type": "markdown",
      "source": [
        "Task 5, Using cursor ai check the sum of Natural numbers\n",
        "prompt:using cursor ai show me the sum of natural numbers"
      ],
      "metadata": {
        "id": "wrCDmLot5tPS"
      }
    },
    {
      "cell_type": "markdown",
      "source": [
        "\n",
        "The code I provided defines a Python function called sum_of_first_n_naturals that calculates the sum of the first n natural numbers.\n",
        "\n",
        "Here's a breakdown:\n",
        "\n",
        "def sum_of_first_n_naturals(n):: This line defines the function named sum_of_first_n_naturals which takes one argument, n.\n",
        "if n < 1:: This checks if the input n is less than 1. If it is, the sum of natural numbers is 0, so it returns 0.\n",
        "else:: If n is 1 or greater, it proceeds to the else block.\n",
        "return n * (n + 1) // 2: This is the core of the calculation. It uses the formula n * (n + 1) / 2 to directly compute the sum of the first n natural numbers. The // 2 ensures integer division.\n",
        "# Example usage:: This is a comment indicating the start of the example.\n",
        "n = 10: This line sets the value of n to 10 for the example.\n",
        "sum_n = sum_of_first_n_naturals(n): This line calls the function with n=10 and stores the returned sum in the variable sum_n.\n",
        "print(f\"The sum of the first {n} natural numbers is: {sum_n}\"): This line prints the result in a user-friendly format.\n",
        "This function provides an efficient way to calculate the sum without needing to iterate through each number.\n",
        "\n",
        "\n"
      ],
      "metadata": {
        "id": "6eVc6qKd5-TQ"
      }
    },
    {
      "cell_type": "code",
      "source": [],
      "metadata": {
        "id": "PrGhkUmp6IbM"
      },
      "execution_count": null,
      "outputs": []
    },
    {
      "cell_type": "code",
      "metadata": {
        "id": "fc442241"
      },
      "source": [
        "def sum_of_first_n_naturals(n):\n",
        "  \"\"\"Calculates the sum of the first n natural numbers.\n",
        "\n",
        "  Args:\n",
        "    n: An integer representing the number of natural numbers.\n",
        "\n",
        "  Returns:\n",
        "    The sum of the first n natural numbers.\n",
        "  \"\"\"\n",
        "  if n < 1:\n",
        "    return 0\n",
        "  else:\n",
        "    return n * (n + 1) // 2\n",
        "\n",
        "# Example usage:\n",
        "n = 10\n",
        "sum_n = sum_of_first_n_naturals(n)\n",
        "print(f\"The sum of the first {n} natural numbers is: {sum_n}\")"
      ],
      "execution_count": null,
      "outputs": []
    }
  ]
}