{
  "nbformat": 4,
  "nbformat_minor": 0,
  "metadata": {
    "colab": {
      "provenance": [],
      "authorship_tag": "ABX9TyNV04GVW+Aq1GrhB9sP9Ohg",
      "include_colab_link": true
    },
    "kernelspec": {
      "name": "python3",
      "display_name": "Python 3"
    },
    "language_info": {
      "name": "python"
    }
  },
  "cells": [
    {
      "cell_type": "markdown",
      "metadata": {
        "id": "view-in-github",
        "colab_type": "text"
      },
      "source": [
        "<a href=\"https://colab.research.google.com/github/nayazuuuuuu/AIAC/blob/main/Untitled9.ipynb\" target=\"_parent\"><img src=\"https://colab.research.google.com/assets/colab-badge.svg\" alt=\"Open In Colab\"/></a>"
      ]
    },
    {
      "cell_type": "markdown",
      "source": [
        "Try 3 different prompts to generate a factorial function.\n",
        "Prompt:Try 3 different prompts to generate a factorial function."
      ],
      "metadata": {
        "id": "jtElJM5_PdeC"
      }
    },
    {
      "cell_type": "markdown",
      "source": [
        "Here's a breakdown of each code cell:\n",
        "\n",
        "Code Cell 1 (Basic Factorial Function): This code defines a recursive function called factorial that calculates the factorial of a non-negative integer n.\n",
        "\n",
        "The base case is when n is 0, in which case it returns 1 (since the factorial of 0 is 1).\n",
        "For n greater than 0, it recursively calls itself with n-1 and multiplies the result by n.\n",
        "The print(factorial(5)) line calls the function with the input 5 and prints the calculated factorial (which is 120).\n",
        "Code Cell 2 (Factorial Function with Input Validation): This code defines a function factorial_with_validation that also calculates the factorial but includes checks to ensure the input n is a non-negative integer.\n",
        "\n",
        "It first checks if n is not an integer or if it's negative using isinstance(n, int) and n < 0. If the input is invalid, it returns an error message.\n",
        "If the input is valid, it proceeds with the recursive factorial calculation similar to the first function.\n",
        "The test lines demonstrate calling the function with valid and invalid inputs to show the validation in action.\n",
        "Code Cell 3 (Iterative Factorial Function): This code defines a function factorial_iterative that calculates the factorial using a loop (an iterative approach) instead of recursion.\n",
        "\n",
        "It also includes input validation similar to the second function.\n",
        "It initializes a result variable to 1.\n",
        "It then iterates from 1 up to n (inclusive) and multiplies the result by each number in the range.\n",
        "Finally, it returns the calculated result.\n",
        "The test line print(factorial_iterative(5)) calls the function and prints the factorial of 5."
      ],
      "metadata": {
        "id": "AtHV14AEPuSG"
      }
    },
    {
      "cell_type": "code",
      "source": [],
      "metadata": {
        "id": "7F67NLA3PvN3"
      },
      "execution_count": null,
      "outputs": []
    },
    {
      "cell_type": "markdown",
      "metadata": {
        "id": "0a0fb37c"
      },
      "source": [
        "**Prompt 1: Basic factorial function**"
      ]
    },
    {
      "cell_type": "code",
      "metadata": {
        "id": "28f70214"
      },
      "source": [
        "# Create a function that calculates the factorial of a non-negative integer.\n",
        "def factorial(n):\n",
        "  if n == 0:\n",
        "    return 1\n",
        "  else:\n",
        "    return n * factorial(n-1)\n",
        "\n",
        "# Test the function\n",
        "print(factorial(5))"
      ],
      "execution_count": null,
      "outputs": []
    },
    {
      "cell_type": "markdown",
      "metadata": {
        "id": "e4449f4e"
      },
      "source": [
        "**Prompt 2: Factorial function with input validation**"
      ]
    },
    {
      "cell_type": "code",
      "metadata": {
        "id": "e964d99c"
      },
      "source": [
        "# Create a function that calculates the factorial of a non-negative integer and includes input validation to ensure the input is a non-negative integer.\n",
        "def factorial_with_validation(n):\n",
        "  if not isinstance(n, int) or n < 0:\n",
        "    return \"Input must be a non-negative integer\"\n",
        "  if n == 0:\n",
        "    return 1\n",
        "  else:\n",
        "    return n * factorial_with_validation(n-1)\n",
        "\n",
        "# Test the function\n",
        "print(factorial_with_validation(5))\n",
        "print(factorial_with_validation(-2))\n",
        "print(factorial_with_validation(2.5))"
      ],
      "execution_count": null,
      "outputs": []
    },
    {
      "cell_type": "markdown",
      "metadata": {
        "id": "ff5e78aa"
      },
      "source": [
        "**Prompt 3: Iterative factorial function**"
      ]
    },
    {
      "cell_type": "code",
      "metadata": {
        "id": "b1f7216a"
      },
      "source": [
        "# Create a function that calculates the factorial of a non-negative integer using an iterative approach (e.g., a loop).\n",
        "def factorial_iterative(n):\n",
        "  if not isinstance(n, int) or n < 0:\n",
        "    return \"Input must be a non-negative integer\"\n",
        "  result = 1\n",
        "  for i in range(1, n + 1):\n",
        "    result *= i\n",
        "  return result\n",
        "\n",
        "# Test the function\n",
        "print(factorial_iterative(5))"
      ],
      "execution_count": null,
      "outputs": []
    }
  ]
}