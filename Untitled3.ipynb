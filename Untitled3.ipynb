{
  "nbformat": 4,
  "nbformat_minor": 0,
  "metadata": {
    "colab": {
      "provenance": [],
      "authorship_tag": "ABX9TyM3UfTxHse4SN9HEfC2V0lH",
      "include_colab_link": true
    },
    "kernelspec": {
      "name": "python3",
      "display_name": "Python 3"
    },
    "language_info": {
      "name": "python"
    }
  },
  "cells": [
    {
      "cell_type": "markdown",
      "metadata": {
        "id": "view-in-github",
        "colab_type": "text"
      },
      "source": [
        "<a href=\"https://colab.research.google.com/github/nayazuuuuuu/AIAC/blob/main/Untitled3.ipynb\" target=\"_parent\"><img src=\"https://colab.research.google.com/assets/colab-badge.svg\" alt=\"Open In Colab\"/></a>"
      ]
    },
    {
      "cell_type": "markdown",
      "source": [
        "Compare Gemini and Copilot outputs for a Python function that\n",
        "checks whether a number is an Armstrong number. Document the\n",
        "steps, prompts, and outputs.\n",
        "prompt:Compare Gemini and Copilot outputs for a Python function that\n",
        "checks whether a number is an Armstrong number. Document the\n",
        "steps, prompts, and outputs."
      ],
      "metadata": {
        "id": "uphrfUFa4OOS"
      }
    },
    {
      "cell_type": "markdown",
      "source": [
        "This code defines a function called is_armstrong that takes one argument, number. The function first converts the number to a string to easily access its digits. Then, it initializes a variable sum_of_powers to 0. It iterates through each digit of the number (as a string), converts the digit back to an integer, and raises it to the power of the total number of digits in the original number. This result is added to sum_of_powers. Finally, it compares sum_of_powers with the original number. If they are equal, the function returns True, indicating that the number is an Armstrong number; otherwise, it returns False.\n",
        "\n"
      ],
      "metadata": {
        "id": "8eIttMBf4rWD"
      }
    },
    {
      "cell_type": "code",
      "source": [],
      "metadata": {
        "id": "yBwo2A9i4xcu"
      },
      "execution_count": null,
      "outputs": []
    },
    {
      "cell_type": "code",
      "metadata": {
        "id": "7141326d"
      },
      "source": [
        "def is_armstrong(number):\n",
        "    \"\"\"\n",
        "    Checks if a number is an Armstrong number.\n",
        "\n",
        "    An Armstrong number (or narcissistic number) is a number that is the sum\n",
        "    of its own digits each raised to the power of the number of digits in the number.\n",
        "\n",
        "    Args:\n",
        "        number: An integer.\n",
        "\n",
        "    Returns:\n",
        "        True if the number is an Armstrong number, False otherwise.\n",
        "    \"\"\"\n",
        "    num_str = str(number)\n",
        "    num_digits = len(num_str)\n",
        "    sum_of_powers = 0\n",
        "    for digit in num_str:\n",
        "        sum_of_powers += int(digit) ** num_digits\n",
        "    return sum_of_powers == number"
      ],
      "execution_count": null,
      "outputs": []
    }
  ]
}