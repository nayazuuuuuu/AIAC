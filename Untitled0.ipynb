{
  "nbformat": 4,
  "nbformat_minor": 0,
  "metadata": {
    "colab": {
      "provenance": [],
      "authorship_tag": "ABX9TyN0+z6UqXfSF+qo5nMouooF",
      "include_colab_link": true
    },
    "kernelspec": {
      "name": "python3",
      "display_name": "Python 3"
    },
    "language_info": {
      "name": "python"
    }
  },
  "cells": [
    {
      "cell_type": "markdown",
      "metadata": {
        "id": "view-in-github",
        "colab_type": "text"
      },
      "source": [
        "<a href=\"https://colab.research.google.com/github/nayazuuuuuu/AIAC/blob/main/Untitled0.ipynb\" target=\"_parent\"><img src=\"https://colab.research.google.com/assets/colab-badge.svg\" alt=\"Open In Colab\"/></a>"
      ]
    },
    {
      "cell_type": "markdown",
      "source": [
        "task 0,write a python programme to check whether the number is prime or not\n",
        "prompt: write a python programme to check whether number is prime or not"
      ],
      "metadata": {
        "id": "Ls6e8Ml-wEVR"
      }
    },
    {
      "cell_type": "markdown",
      "source": [
        "def is_prime(n):: This part remains the same as before. It's a function that checks if a single number n is prime and returns True or False.\n",
        "numbers_to_check = [2, 7, 10, 13, 25]: This line creates a Python list named numbers_to_check and initializes it with the numbers you want to check for primality. You can change the numbers in this list to check different values.\n",
        "for num in numbers_to_check:: This is a for loop that iterates through each element in the numbers_to_check list. In each iteration, the current number from the list is assigned to the variable num.\n",
        "if is_prime(num):: Inside the loop, for each num in the list, this line calls the is_prime function to check if that specific number is prime.\n",
        "print(f\"{num} is a prime number\"): If the is_prime function returns True for the current num, this line prints a message indicating that the number is prime.\n",
        "else: print(f\"{num} is not a prime number\"): If the is_prime function returns False, this line prints a message indicating that the number is not prime.\n",
        "In essence, the code now takes a list of numbers and uses the is_prime function to check each number individually, printing the result for each one.\n",
        "\n"
      ],
      "metadata": {
        "id": "pco8LmKXxQ38"
      }
    },
    {
      "cell_type": "markdown",
      "source": [],
      "metadata": {
        "id": "TTte04zhxJYh"
      }
    },
    {
      "cell_type": "code",
      "metadata": {
        "colab": {
          "base_uri": "https://localhost:8080/"
        },
        "id": "2afa98e9",
        "outputId": "da521fff-d48c-4e8f-f9ca-1d2f40825af9"
      },
      "source": [
        "def is_prime(n):\n",
        "  \"\"\"Checks if a number is prime.\"\"\"\n",
        "  if n <= 1:\n",
        "    return False\n",
        "  for i in range(2, int(n**0.5) + 1):\n",
        "    if n % i == 0:\n",
        "      return False\n",
        "  return True\n",
        "\n",
        "# List of numbers to check\n",
        "numbers_to_check = [2, 7, 10, 13, 25]\n",
        "\n",
        "# Check each number in the list\n",
        "for num in numbers_to_check:\n",
        "  if is_prime(num):\n",
        "    print(f\"{num} is a prime number\")\n",
        "  else:\n",
        "    print(f\"{num} is not a prime number\")"
      ],
      "execution_count": 3,
      "outputs": [
        {
          "output_type": "stream",
          "name": "stdout",
          "text": [
            "2 is a prime number\n",
            "7 is a prime number\n",
            "10 is not a prime number\n",
            "13 is a prime number\n",
            "25 is not a prime number\n"
          ]
        }
      ]
    }
  ]
}