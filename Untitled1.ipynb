{
  "nbformat": 4,
  "nbformat_minor": 0,
  "metadata": {
    "colab": {
      "provenance": [],
      "authorship_tag": "ABX9TyOuSihlXk0oBsYclLDTKeOc",
      "include_colab_link": true
    },
    "kernelspec": {
      "name": "python3",
      "display_name": "Python 3"
    },
    "language_info": {
      "name": "python"
    }
  },
  "cells": [
    {
      "cell_type": "markdown",
      "metadata": {
        "id": "view-in-github",
        "colab_type": "text"
      },
      "source": [
        "<a href=\"https://colab.research.google.com/github/nayazuuuuuu/AIAC/blob/main/Untitled1.ipynb\" target=\"_parent\"><img src=\"https://colab.research.google.com/assets/colab-badge.svg\" alt=\"Open In Colab\"/></a>"
      ]
    },
    {
      "cell_type": "code",
      "execution_count": null,
      "metadata": {
        "id": "ud7vEi-x06Jf"
      },
      "outputs": [],
      "source": []
    },
    {
      "cell_type": "markdown",
      "source": [
        "Students need to write a Python program to calculate the sum of\n",
        "odd numbers and even numbers in a given tuple.\n",
        "prompt:Students need to write a Python program to calculate the sum of\n",
        "odd numbers and even numbers in a given tuple."
      ],
      "metadata": {
        "id": "rmsIdsEf2ggN"
      }
    },
    {
      "cell_type": "markdown",
      "source": [
        "numbers = (1, 2, 3, 4, 5, 6, 7, 8, 9, 10): This line defines a tuple named numbers containing integers from 1 to 10.\n",
        "sum_odd = 0 and sum_even = 0: These lines initialize two variables, sum_odd and sum_even, to zero. These variables will store the cumulative sum of odd and even numbers, respectively.\n",
        "for number in numbers:: This is a for loop that iterates through each element in the numbers tuple. In each iteration, the current element is assigned to the variable number.\n",
        "if number % 2 == 0:: Inside the loop, this condition checks if the current number is even. The modulo operator (%) returns the remainder of a division. If the remainder when divided by 2 is 0, the number is even.\n",
        "sum_even += number: If the number is even, it is added to the sum_even variable.\n",
        "else:: If the condition in the if statement is false (i.e., the number is not even), the code in the else block is executed.\n",
        "sum_odd += number: If the number is odd, it is added to the sum_odd variable.\n",
        "print(f\"Sum of odd numbers: {sum_odd}\") and print(f\"Sum of even numbers: {sum_even}\"): After the loop has finished iterating through all the numbers in the tuple, these lines print the final calculated sum of odd numbers and even numbers using f-strings for formatted output.\n"
      ],
      "metadata": {
        "id": "sQz1lB9T2z3T"
      }
    },
    {
      "cell_type": "code",
      "source": [
        "# Given tuple\n",
        "numbers = (1, 2, 3, 4, 5, 6, 7, 8, 9, 10)\n",
        "\n",
        "# Initialize sum of odd and even numbers\n",
        "sum_odd = 0\n",
        "sum_even = 0\n",
        "\n",
        "# Iterate through the tuple and calculate the sum of odd and even numbers\n",
        "for number in numbers:\n",
        "    if number % 2 == 0:\n",
        "        sum_even += number\n",
        "    else:\n",
        "        sum_odd += number\n",
        "\n",
        "# Print the results\n",
        "print(f\"Sum of odd numbers: {sum_odd}\")\n",
        "print(f\"Sum of even numbers: {sum_even}\")"
      ],
      "metadata": {
        "colab": {
          "base_uri": "https://localhost:8080/"
        },
        "id": "fSFh5C-d28Rq",
        "outputId": "3676150b-a738-4c0c-9ba4-786b7112ce73"
      },
      "execution_count": 2,
      "outputs": [
        {
          "output_type": "stream",
          "name": "stdout",
          "text": [
            "Sum of odd numbers: 25\n",
            "Sum of even numbers: 30\n"
          ]
        }
      ]
    }
  ]
}